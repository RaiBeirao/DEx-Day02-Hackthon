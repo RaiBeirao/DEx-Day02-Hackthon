{
  "cells": [
    {
      "cell_type": "markdown",
      "metadata": {
        "id": "view-in-github",
        "colab_type": "text"
      },
      "source": [
        "<a href=\"https://colab.research.google.com/github/RaiBeirao/DEx-Day02-Hackthon/blob/main/Lista/Lista.ipynb\" target=\"_parent\"><img src=\"https://colab.research.google.com/assets/colab-badge.svg\" alt=\"Open In Colab\"/></a>"
      ]
    },
    {
      "cell_type": "markdown",
      "id": "d7e927d7-ba14-4e8f-9894-0a11b3c8a40f",
      "metadata": {
        "id": "d7e927d7-ba14-4e8f-9894-0a11b3c8a40f"
      },
      "source": [
        "# Dinâmica de listas em Python"
      ]
    },
    {
      "cell_type": "markdown",
      "id": "efe34d45-fff2-4afd-97fa-70c3340ee9f4",
      "metadata": {
        "id": "efe34d45-fff2-4afd-97fa-70c3340ee9f4"
      },
      "source": [
        "## **Contexto**"
      ]
    },
    {
      "cell_type": "markdown",
      "id": "da4a506e-7a30-4202-82c6-8d3e65510469",
      "metadata": {
        "id": "da4a506e-7a30-4202-82c6-8d3e65510469"
      },
      "source": [
        "Vamos trabalhar com dados de empresas unicórnios (startups avaliadas em pelo menos 1 bilhão de reais).\n",
        "\n",
        "Para carregar os dados certifique-se de fazer o upload do arquivo `dados.py` no Colab (ou na pasta local que estiver executando o Python, caso esteja utilizando Python no seu próprio computador) e a seguir execute o comando abaixo dessa caixa de texto.\n",
        "\n",
        "Cada objeto destes é uma lista com as seguintes informações:\n",
        "- `companies`: lista das startups (não utilizaremos, mas deixei aqui caso haja curiosidade)\n",
        "- `values`: lista dos preços avaliados até outubro de 2021 (em bilhão de dólares)\n",
        "- `created_at`: lista dos anos de criação das startups\n",
        "- `categories`: lista com os ramos das startups\n",
        "\n",
        "Cada lista possui 917 itens e todas as listas são relacionadas uma com a outra. Por exemplo, o primeiro item da lista *values* (`values[0]`) corresponde ao valor da primeira startup (`companies[0]`) e assim por diante.\n",
        "\n",
        "Você deverá responder as três questões, que aumentam em complexidade (fácil, moderado e difícil) utilizando  **apenas loops, listas e condicionais**, vistos na aula de Python. Não utilize nenhuma biblioteca, pois o objetivo desta dinâmica é exercitar a familiaridade principalmente com listas.\n",
        "\n",
        "Boa sorte =D"
      ]
    },
    {
      "cell_type": "markdown",
      "id": "06b424ec-ed78-404e-a1d7-53457b5076b6",
      "metadata": {
        "id": "06b424ec-ed78-404e-a1d7-53457b5076b6"
      },
      "source": [
        "**Importando as listas das questões:**"
      ]
    },
    {
      "cell_type": "code",
      "execution_count": 3,
      "id": "3fc22b73-ba8b-401a-98f8-1f37aa62fde2",
      "metadata": {
        "id": "3fc22b73-ba8b-401a-98f8-1f37aa62fde2"
      },
      "outputs": [],
      "source": [
        "from dados import companies, values, created_at, countries, categories"
      ]
    },
    {
      "cell_type": "code",
      "execution_count": 4,
      "id": "ba39565c-c876-4246-8ce4-1462b3381c29",
      "metadata": {
        "colab": {
          "base_uri": "https://localhost:8080/"
        },
        "id": "ba39565c-c876-4246-8ce4-1462b3381c29",
        "outputId": "fa0bd3f1-b8e0-4ed8-ab48-88e6f0d1ba41"
      },
      "outputs": [
        {
          "output_type": "stream",
          "name": "stdout",
          "text": [
            "917 917 917 917 917\n"
          ]
        }
      ],
      "source": [
        "# Visualizando tamanho das listas\n",
        "com = len(companies) # todas listas tem o mesmo tamanho\n",
        "val = len(values) \n",
        "cre = len(created_at)\n",
        "cou = len(countries)\n",
        "cat = len(categories)\n",
        "print(com, val, cre, cou, cat)"
      ]
    },
    {
      "cell_type": "markdown",
      "id": "82a5dde6-2eea-450f-988a-1bd715538f1f",
      "metadata": {
        "id": "82a5dde6-2eea-450f-988a-1bd715538f1f"
      },
      "source": [
        "## **Questão 1:**\n",
        "\n",
        "Quantos países diferentes tem na lista de países? E categorias? E anos de criação das startups (`created_at`)?\n",
        "\n",
        "**Dica:** Salve os valores únicos destas três listas em três variáveis pois será necessário na questão 3.  \n",
        "Por exemplo: `paises_unicos`, `categorias_unicas` e `anos_unicos`."
      ]
    },
    {
      "cell_type": "markdown",
      "id": "a8417691-13d4-44ae-bf83-efa095df98e7",
      "metadata": {
        "id": "a8417691-13d4-44ae-bf83-efa095df98e7"
      },
      "source": [
        "Total de países únicos:"
      ]
    },
    {
      "cell_type": "code",
      "execution_count": 9,
      "id": "eccd74da-93f6-4a8e-b3dd-7b85d9cf0123",
      "metadata": {
        "id": "eccd74da-93f6-4a8e-b3dd-7b85d9cf0123",
        "colab": {
          "base_uri": "https://localhost:8080/"
        },
        "outputId": "6f4f5568-d6d5-416c-8d6c-113a9d87b4bd"
      },
      "outputs": [
        {
          "output_type": "execute_result",
          "data": {
            "text/plain": [
              "45"
            ]
          },
          "metadata": {},
          "execution_count": 9
        }
      ],
      "source": [
        "paises_unicos = set(countries)\n",
        "len(paises_unicos)"
      ]
    },
    {
      "cell_type": "markdown",
      "id": "d991c826-cc0d-4ef0-ac78-1e4cb3456dd9",
      "metadata": {
        "id": "d991c826-cc0d-4ef0-ac78-1e4cb3456dd9"
      },
      "source": [
        "Total de categorias únicas:"
      ]
    },
    {
      "cell_type": "code",
      "execution_count": 8,
      "id": "187c2f89-14ef-40fd-bc85-b239426fff0c",
      "metadata": {
        "id": "187c2f89-14ef-40fd-bc85-b239426fff0c",
        "colab": {
          "base_uri": "https://localhost:8080/"
        },
        "outputId": "5bcba19e-05fb-4d43-cb06-f70bfcc2eb64"
      },
      "outputs": [
        {
          "output_type": "execute_result",
          "data": {
            "text/plain": [
              "16"
            ]
          },
          "metadata": {},
          "execution_count": 8
        }
      ],
      "source": [
        "categorias_unicas = set(categories)\n",
        "len(categorias_unicas)"
      ]
    },
    {
      "cell_type": "markdown",
      "id": "4808235d-6b98-4aab-b4bf-80b0dc50d7c9",
      "metadata": {
        "id": "4808235d-6b98-4aab-b4bf-80b0dc50d7c9"
      },
      "source": [
        "Total de anos únicos:"
      ]
    },
    {
      "cell_type": "code",
      "execution_count": 10,
      "id": "2d00b419-45f0-4b88-9600-0fb54696b369",
      "metadata": {
        "id": "2d00b419-45f0-4b88-9600-0fb54696b369",
        "colab": {
          "base_uri": "https://localhost:8080/"
        },
        "outputId": "4dc9f22e-7ef8-47aa-8936-40deee2088b7"
      },
      "outputs": [
        {
          "output_type": "execute_result",
          "data": {
            "text/plain": [
              "13"
            ]
          },
          "metadata": {},
          "execution_count": 10
        }
      ],
      "source": [
        "anos_unicos = set(created_at)\n",
        "len(anos_unicos)"
      ]
    },
    {
      "cell_type": "markdown",
      "id": "15a11c1b-bcdf-4132-b8bb-06f8eeffc257",
      "metadata": {
        "id": "15a11c1b-bcdf-4132-b8bb-06f8eeffc257"
      },
      "source": [
        "## **Questão 2:**\n",
        "\n",
        "Some o valor das empresas unicórnios na categoria \"Artificial Intelligence\" E que foram criadas no \"United Kingdom\" ou na \"China\". Arredonde para o número inteiro mais próximo."
      ]
    },
    {
      "cell_type": "code",
      "execution_count": 23,
      "id": "1cc329d3-6a22-4d2e-9f1b-21365b6876ee",
      "metadata": {
        "id": "1cc329d3-6a22-4d2e-9f1b-21365b6876ee",
        "colab": {
          "base_uri": "https://localhost:8080/"
        },
        "outputId": "0c6d3159-bace-4b3a-fb91-69d671e5db94"
      },
      "outputs": [
        {
          "output_type": "stream",
          "name": "stdout",
          "text": [
            "188\n",
            "188\n"
          ]
        }
      ],
      "source": [
        "# solução 01\n",
        "soma = 0\n",
        "for p,c,v in zip(countries,categories,values):\n",
        "  if (p == 'United Kingdom' or p == 'China') and c == 'Artificial Intelligence':\n",
        "    soma += v\n",
        "print(round(soma))\n",
        "\n",
        "# solução 02\n",
        "valores = [ valor for valor, pais, categoria in zip(values, countries, categories) if categoria == 'Artificial Intelligence' and (pais == 'China' or pais == 'United Kingdom')]\n",
        "print(round(sum(valores)))"
      ]
    },
    {
      "cell_type": "markdown",
      "id": "e6aceacb-0d2b-4180-a12e-980f1d241b97",
      "metadata": {
        "id": "e6aceacb-0d2b-4180-a12e-980f1d241b97"
      },
      "source": [
        "## **Questão 3**"
      ]
    },
    {
      "cell_type": "markdown",
      "id": "563c329a-79c7-43cd-abd0-7db1a2d10a76",
      "metadata": {
        "id": "563c329a-79c7-43cd-abd0-7db1a2d10a76"
      },
      "source": [
        "Liste de forma ordenada as startups unicórnios brasileiras, sua categoria e seu valor em bilhões. Ordene elas pela companhia com maior valor para a companhia de menor valor."
      ]
    },
    {
      "cell_type": "code",
      "execution_count": 26,
      "id": "e5d187aa-762a-4575-ae11-931d5cc66f0f",
      "metadata": {
        "id": "e5d187aa-762a-4575-ae11-931d5cc66f0f",
        "colab": {
          "base_uri": "https://localhost:8080/"
        },
        "outputId": "41367b08-df80-4253-bc65-25cb55e33849"
      },
      "outputs": [
        {
          "output_type": "stream",
          "name": "stdout",
          "text": [
            "[[30.0, 'Brazil', 'Nubank', 'Fintech'], [5.1, 'Brazil', 'QuintoAndar', 'E-commerce & direct-to-consumer'], [5.05, 'Brazil', 'C6 Bank', 'Fintech'], [3.1, 'Brazil', 'Nuvemshop', 'E-commerce & direct-to-consumer'], [3.0, 'Brazil', 'Wildlife Studios', 'Other'], [2.9, 'Brazil', 'Loft', 'E-commerce & direct-to-consumer'], [2.0, 'Brazil', 'Loggi', 'Supply chain, logistics, & delivery'], [1.75, 'Brazil', 'Creditas', 'Fintech'], [1.0, 'Brazil', 'Movile', 'Mobile & telecommunications'], [1.0, 'Brazil', 'iFood', 'Supply chain, logistics, & delivery'], [1.0, 'Brazil', 'EBANX', 'Fintech'], [1.0, 'Brazil', 'MadeiraMadeira', 'E-commerce & direct-to-consumer'], [1.0, 'Brazil', 'Unico', 'Artificial Intelligence'], [1.0, 'Brazil', 'CargoX', 'Supply chain, logistics, & delivery']]\n",
            "\n",
            "(30.0, 'Brazil', 'Nubank', 'Fintech')\n",
            "(5.1, 'Brazil', 'QuintoAndar', 'E-commerce & direct-to-consumer')\n",
            "(5.05, 'Brazil', 'C6 Bank', 'Fintech')\n",
            "(3.1, 'Brazil', 'Nuvemshop', 'E-commerce & direct-to-consumer')\n",
            "(3.0, 'Brazil', 'Wildlife Studios', 'Other')\n",
            "(2.9, 'Brazil', 'Loft', 'E-commerce & direct-to-consumer')\n",
            "(2.0, 'Brazil', 'Loggi', 'Supply chain, logistics, & delivery')\n",
            "(1.75, 'Brazil', 'Creditas', 'Fintech')\n",
            "(1.0, 'Brazil', 'Movile', 'Mobile & telecommunications')\n",
            "(1.0, 'Brazil', 'iFood', 'Supply chain, logistics, & delivery')\n",
            "(1.0, 'Brazil', 'EBANX', 'Fintech')\n",
            "(1.0, 'Brazil', 'MadeiraMadeira', 'E-commerce & direct-to-consumer')\n",
            "(1.0, 'Brazil', 'Unico', 'Artificial Intelligence')\n",
            "(1.0, 'Brazil', 'CargoX', 'Supply chain, logistics, & delivery')\n"
          ]
        }
      ],
      "source": [
        "# solução 01\n",
        "lista = []\n",
        "for p,n,c,v in zip(countries,companies,categories,values):\n",
        "  if p == 'Brazil':\n",
        "    lista.append([v,p,n,c])\n",
        "print(sorted(lista, key = lambda x : x[0], reverse=True))\n",
        "print()\n",
        "\n",
        "# solução 02\n",
        "lista_brasil = [(valor, pais, nome, categoria) for valor, pais, nome, categoria in zip(values, countries, companies, categories) if pais == 'Brazil']\n",
        "lita_final = sorted(lista_brasil, key = lambda x: x[0],reverse = True)\n",
        "for i in lista_brasil:\n",
        "  print(i)"
      ]
    },
    {
      "cell_type": "markdown",
      "id": "dfab8d33-f776-48a5-a45d-e4175f1b001a",
      "metadata": {
        "id": "dfab8d33-f776-48a5-a45d-e4175f1b001a"
      },
      "source": [
        "## **Questão Desafio: Função**"
      ]
    },
    {
      "cell_type": "markdown",
      "id": "1d842b3f-ff53-4747-85f1-095a4f86aec1",
      "metadata": {
        "id": "1d842b3f-ff53-4747-85f1-095a4f86aec1"
      },
      "source": [
        "Faça uma função que retorne a companhia com o maior valor para dado grupo e esse respectivo valor. O grupo pode ser país ou o ramo da empresa, por exemplo.\n",
        "\n",
        "Sua função deve receber **quatro inputs**:\n",
        "\n",
        "- Grupo-alvo\n",
        "- Lista das companhias\n",
        "- Lista dos valores das companhias\n",
        "- Lista de um grupo/categoria da companhia, que onde será procurado o \"grupo-alvo\".\n",
        "\n",
        "Exemplo: vamos supor que você queira saber qual companhia brasileira melhor avaliada financeiramente.  \n",
        "Para isso você poderia executar o código da sua função da seguinte maneira:\n",
        "\n",
        "```python\n",
        "company_valuation(target_group='Brazil', company_list=companies, valuation_list=values, group_list=countries)\n",
        "``` \n",
        "\n",
        "Neste exemplo o nome da sua função é `company_valuation` que recebe os quatro inputs (ou parâmetros) mencionados acima, respectivamente.\n",
        "Sua lista de grupos, como você quer saber um país específico, é a lista de países `countries`. \n",
        "\n",
        "Vamos supor agora que o usuário queira saber qual compania melhor avaliada do ramo Fintech:\n",
        "\n",
        "```python\n",
        "company_valuation(target_group='Fintech', company_list=companies, valuation_list=values, group_list=categories)\n",
        "``` \n",
        "\n",
        "Observe que nesta chamada de função especificamos \"Fintech\" como grupo-alvo, e alteramos a lista de grupo `group_list` para `categories`, que é nossa lista de ramos das companhias.\n",
        "\n",
        "Seu resultado final deve ser uma **tupla com o nome da companhia e seu respectivo valor** (que é o máximo para o grupo em análise).\n",
        "Adicionalmente, dentro de sua função, faça duas checagens antes do seu código para encontrar a companhia, que verifique:\n",
        "- se as três listas de entrada possuem o mesmo tamanho (devem possuir, pois devem ser complementares, ou seja, item1 da lista 1 é o mesmo que o item1 da lista 2 e 3)\n",
        "- se o grupo-alvo especificado de fato existe na lista de grupos\n",
        "\n",
        "Caso as listas não possuam o mesmo tamanho exiba uma mensagem de erro e retorne `None`.  \n",
        "Caso o grupo-alvo não exista na lista de grupos exiba uma mensagem de erro e quais elementos únicos aquela lista de grupo possui e então retorne `None`.\n",
        "\n",
        "Exemplos de chamadas e resultados esperados:\n",
        "\n",
        "```python\n",
        "company_valuation('Brazil', companies, values, countries)\n",
        "# output: ('Nubank', 30.0)\n",
        "company_valuation('Data management & analytics', companies, values, categories)\n",
        "# output: ('Databricks', 38.0)\n",
        "company_valuation('asdfas', companies, values, categories)\n",
        "# output: Elemento \"asdfas\" não está na lista.\n",
        "\n",
        "# Exemplos de elementos únicos da lista: {'Travel', 'Internet software & services', 'Supply chain, logistics, & delivery', 'Fintech', 'Consumer & retail', 'Health', 'Mobile & telecommunications', 'Edtech', 'E-commerce & direct-to-consumer', 'Hardware', 'Auto & transportation', 'Finttech', 'Data management & analytics', 'Cybersecurity', 'Artificial Intelligence', 'Other'}\n",
        "```\n",
        "\n",
        "**Agora, utilize sua função e responda:**\n",
        "\n",
        "1. Qual companhia foi melhor avaliada no ramo \"Internet software & services\"?\n",
        "2. Qual o valor (em bilhões de dólares) da companhia melhor avaliada na China?"
      ]
    },
    {
      "cell_type": "code",
      "execution_count": 27,
      "id": "9256d599-e649-4fb1-aff0-63be9c7c6aee",
      "metadata": {
        "id": "9256d599-e649-4fb1-aff0-63be9c7c6aee",
        "colab": {
          "base_uri": "https://localhost:8080/"
        },
        "outputId": "b6c3cfb7-a83d-4d56-ca95-15d1fe805816"
      },
      "outputs": [
        {
          "output_type": "stream",
          "name": "stdout",
          "text": [
            "('Canva', 40.0)\n",
            "Elemento Internet software & services não está na lista.\n",
            "('Bytedance', 140.0)\n"
          ]
        }
      ],
      "source": [
        "def company_valuation (target_group, company_list, valuation_list, group_list):\n",
        "  if target_group in group_list:\n",
        "    aux = {\n",
        "        'nome':'',\n",
        "        'valor': 0\n",
        "    }\n",
        "    for nome, valor, grupo in zip(company_list, valuation_list, group_list):\n",
        "      if(grupo == target_group):\n",
        "        if(aux['valor'] < valor):\n",
        "          aux['nome'] = nome\n",
        "          aux['valor'] = valor\n",
        "    return (aux['nome'],aux['valor']) \n",
        "  else:\n",
        "    reposta = 'Elemento '+target_group+' não está na lista.'\n",
        "    return reposta\n",
        "\n",
        "print(company_valuation('Internet software & services',companies,values,categories))\n",
        "print(company_valuation('Internet software & services',companies,values,countries))\n",
        "print(company_valuation('China',companies,values,countries))"
      ]
    }
  ],
  "metadata": {
    "colab": {
      "name": "Lista.ipynb",
      "provenance": [],
      "include_colab_link": true
    },
    "kernelspec": {
      "display_name": "Python 3 (ipykernel)",
      "language": "python",
      "name": "python3"
    },
    "language_info": {
      "codemirror_mode": {
        "name": "ipython",
        "version": 3
      },
      "file_extension": ".py",
      "mimetype": "text/x-python",
      "name": "python",
      "nbconvert_exporter": "python",
      "pygments_lexer": "ipython3",
      "version": "3.9.7"
    }
  },
  "nbformat": 4,
  "nbformat_minor": 5
}