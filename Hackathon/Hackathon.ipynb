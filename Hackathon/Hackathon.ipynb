{
  "cells": [
    {
      "cell_type": "markdown",
      "metadata": {
        "id": "view-in-github",
        "colab_type": "text"
      },
      "source": [
        "<a href=\"https://colab.research.google.com/github/RaiBeirao/DEx-Day02-Hackthon/blob/main/Hackathon/Hackathon.ipynb\" target=\"_parent\"><img src=\"https://colab.research.google.com/assets/colab-badge.svg\" alt=\"Open In Colab\"/></a>"
      ]
    },
    {
      "cell_type": "markdown",
      "id": "d7e927d7-ba14-4e8f-9894-0a11b3c8a40f",
      "metadata": {
        "id": "d7e927d7-ba14-4e8f-9894-0a11b3c8a40f"
      },
      "source": [
        "# 1º Grande Hackathon de Python!"
      ]
    },
    {
      "cell_type": "markdown",
      "id": "efe34d45-fff2-4afd-97fa-70c3340ee9f4",
      "metadata": {
        "id": "efe34d45-fff2-4afd-97fa-70c3340ee9f4"
      },
      "source": [
        "## **Contexto**"
      ]
    },
    {
      "cell_type": "markdown",
      "id": "da4a506e-7a30-4202-82c6-8d3e65510469",
      "metadata": {
        "id": "da4a506e-7a30-4202-82c6-8d3e65510469"
      },
      "source": [
        "Nesta dinâmica vamos trabalhar com dados de empresas populacionais de 1960 a 2020 e de PIB de 1960 a 2016. \n",
        "\n",
        "Teremos listas e dicionários pré-processados para três tipos de dados:\n",
        "\n",
        "\n",
        "**Metadados:** Mostra informação dos códigos dos países, região, renda e país correspondente.\n",
        "\n",
        "**População:** Primeira coluna corresponde ao código do país, e demais colunas a cada ano (1960-2016).\n",
        "\n",
        "**PIB:** Primeira coluna corresponde ao código do país, e demais colunas a cada ano (1960-2016).\n",
        "\n",
        "\n",
        "Para carregar os dados, certifique-se de fazer o upload do arquivo `dados_mundiais.py` e dos arquivos .csv conforme descrito nas instruções!\n",
        "\n",
        "Na maioria das questões trabalharemos apenas com dados de populações. Por padrão, `cabecalho` contém os nomes das colunas, `linhas` são as listas das linhas das tabelas, `colunas` lista das colunas e `dicio` a lista de colunas como valores, e nomes das colunas como chave.\n",
        "\n",
        "Há dados faltantes que estão como \"0\" mas que não influenciarão nenhuma questão. Cabe ressaltar que se por curiosidade alguém pegar uma linha ou coluna com valor faltante e calcular a média, este valor não será realista porque os 0 entrarão no cálculo da média."
      ]
    },
    {
      "cell_type": "markdown",
      "id": "06b424ec-ed78-404e-a1d7-53457b5076b6",
      "metadata": {
        "id": "06b424ec-ed78-404e-a1d7-53457b5076b6"
      },
      "source": [
        "## **Para carregar os bancos de dados execute o código abaixo**"
      ]
    },
    {
      "cell_type": "code",
      "execution_count": 5,
      "id": "f6204b59-565e-4a1a-97e8-9565b40f1da9",
      "metadata": {
        "id": "f6204b59-565e-4a1a-97e8-9565b40f1da9"
      },
      "outputs": [],
      "source": [
        "from dados_mundiais import populacao_cabecalho, populacao_linhas, populacao_colunas, populacao_dicio\n",
        "from dados_mundiais import pib_cabecalho, pib_linhas, pib_colunas, pib_dicio\n",
        "from dados_mundiais import metadados_cabecalho, metadados_linhas, metadados_colunas, metadados_dicio"
      ]
    },
    {
      "cell_type": "markdown",
      "id": "516b563d-5ada-4ffd-b94e-b9edb54fe3a3",
      "metadata": {
        "tags": [],
        "id": "516b563d-5ada-4ffd-b94e-b9edb54fe3a3"
      },
      "source": [
        "# **Questões**"
      ]
    },
    {
      "cell_type": "markdown",
      "id": "9780af3b-fd32-4dff-b10e-9295a7bfd646",
      "metadata": {
        "id": "9780af3b-fd32-4dff-b10e-9295a7bfd646"
      },
      "source": [
        "## Questão 1\n",
        "\n"
      ]
    },
    {
      "cell_type": "markdown",
      "id": "3cfeeae2-36d8-4609-acc8-79f769ffde0b",
      "metadata": {
        "id": "3cfeeae2-36d8-4609-acc8-79f769ffde0b"
      },
      "source": [
        "Para praticar lista!! Monte uma lista com números de 0 a 100 com apenas múltiplos de 5 e responda:\n",
        "    \n",
        "    a) Qual o terceiro elemento da lista? Considere que ela começa no elemento A[0].\n",
        "    b) Qual número está no index 10?"
      ]
    },
    {
      "cell_type": "code",
      "execution_count": 9,
      "id": "df7a29f8-6316-4cb5-a88d-c92c0d0f02d8",
      "metadata": {
        "id": "df7a29f8-6316-4cb5-a88d-c92c0d0f02d8",
        "outputId": "1e007e75-ca93-41e2-d222-f0a7e3aaf9c2",
        "colab": {
          "base_uri": "https://localhost:8080/"
        }
      },
      "outputs": [
        {
          "output_type": "stream",
          "name": "stdout",
          "text": [
            "[0, 5, 10, 15, 20, 25, 30, 35, 40, 45, 50, 55, 60, 65, 70, 75, 80, 85, 90, 95, 100]\n",
            "O terceiro elemento é o: 10\n",
            "O número que está no index 10 é o: 50\n"
          ]
        }
      ],
      "source": [
        "mult5 = list(range(0,101,5))\n",
        "print(mult5)\n",
        "\n",
        "a = mult5[2]\n",
        "b = mult5[10]\n",
        "\n",
        "#a)\n",
        "print('O terceiro elemento é o:',a)\n",
        "\n",
        "#b)\n",
        "print('O número que está no index 10 é o:',b)"
      ]
    },
    {
      "cell_type": "markdown",
      "id": "223fa369-b1ca-4e55-a2a3-95573a3af04b",
      "metadata": {
        "id": "223fa369-b1ca-4e55-a2a3-95573a3af04b"
      },
      "source": [
        "## Questão 2\n",
        "\n"
      ]
    },
    {
      "cell_type": "markdown",
      "id": "1a23969f-49e0-4ef9-bdef-2929735a28be",
      "metadata": {
        "id": "1a23969f-49e0-4ef9-bdef-2929735a28be"
      },
      "source": [
        "Utilizando a lista `populacao_linhas` filtre a linha correspondente ao Brasil (`BRA`) e responda:\n",
        "\n",
        "    a) Qual a população máxima do Brasil nestes dados?\n",
        "    b) Qual a população mínima do Brasil nestes dados?"
      ]
    },
    {
      "cell_type": "code",
      "execution_count": 12,
      "id": "b518f432-ab37-4e59-ba45-63898cbd7261",
      "metadata": {
        "id": "b518f432-ab37-4e59-ba45-63898cbd7261",
        "colab": {
          "base_uri": "https://localhost:8080/"
        },
        "outputId": "a7c39732-a47e-4158-dcd0-022f794e4474"
      },
      "outputs": [
        {
          "output_type": "stream",
          "name": "stdout",
          "text": [
            "\n",
            "\u001b[1mRespostas\u001b[m\n",
            "a) 212559409\n",
            "b) 72179235\n",
            "\n"
          ]
        }
      ],
      "source": [
        "a,b = [(max(line[1:]), min(line[1:])) for line in populacao_linhas if line[0]=='BRA'][0]\n",
        "\n",
        "print(f\"\"\"\n",
        "\\033[1mRespostas\\033[m\n",
        "a) {a}\n",
        "b) {b}\n",
        "\"\"\")"
      ]
    },
    {
      "cell_type": "markdown",
      "id": "06a84d9b-537a-4d7f-af5e-e5a97cf6e8b2",
      "metadata": {
        "id": "06a84d9b-537a-4d7f-af5e-e5a97cf6e8b2"
      },
      "source": [
        "## Questão 3\n",
        "\n"
      ]
    },
    {
      "cell_type": "markdown",
      "id": "158704ea-53fe-40f7-8b08-d5a426bcb56b",
      "metadata": {
        "id": "158704ea-53fe-40f7-8b08-d5a426bcb56b"
      },
      "source": [
        "Monte uma tupla com todos os códigos de países que começam com \"A\" (Ex.: ('ABW', 'AFE',...). Sugestão: utilize a primeira coluna dos dados de população para isso `populacao_colunas[0]`. Então responda:\n",
        "\n",
        "    a) Quantos elementos há na tupla?\n",
        "    b) Em qual posição (índice) está o código \"ARG\""
      ]
    },
    {
      "cell_type": "code",
      "execution_count": 13,
      "id": "02ae37e1-6a3b-4c5a-973e-c75eb87e704b",
      "metadata": {
        "id": "02ae37e1-6a3b-4c5a-973e-c75eb87e704b",
        "colab": {
          "base_uri": "https://localhost:8080/"
        },
        "outputId": "3d2e3a00-b247-437b-bdfc-02c78e706515"
      },
      "outputs": [
        {
          "output_type": "stream",
          "name": "stdout",
          "text": [
            "('ABW', 'AFE', 'AFG', 'AFW', 'AGO', 'ALB', 'AND', 'ARB', 'ARE', 'ARG', 'ARM', 'ASM', 'ATG', 'AUS', 'AUT', 'AZE')\n",
            "\n",
            "\u001b[1mRespostas\u001b[m\n",
            "a) 16\n",
            "b) 9\n",
            "\n"
          ]
        }
      ],
      "source": [
        "tupla = tuple([pais for pais in populacao_colunas[0] if pais[0] == 'A'])\n",
        "print(tupla)\n",
        "\n",
        "a = len(tupla)\n",
        "b = tupla.index('ARG')\n",
        "\n",
        "print(f\"\"\"\n",
        "\\033[1mRespostas\\033[m\n",
        "a) {a}\n",
        "b) {b}\n",
        "\"\"\")"
      ]
    },
    {
      "cell_type": "markdown",
      "id": "73939893-7fd1-4657-92b7-e51db1d2f6e7",
      "metadata": {
        "id": "73939893-7fd1-4657-92b7-e51db1d2f6e7"
      },
      "source": [
        "## Questão 4\n",
        "\n",
        "Monte duas listas: uma com os valores de população do Brasil e uma com os valores de PIB do Brasil. Salve-as nas variáveis `brasil_populacao` e `brasil_pib`, respectivamente.  \n",
        "Utilize as listas `populacao_cabecalho`, `populacao_linhas`, `pib_cabecalho` e `pib_linhas` para construir a seguinte estrutura:\n",
        "\n",
        "- Lista com tuplas do ano e seus respectivos valores de população\n",
        "- Lista com tuplas do ano e seus respectivos valores de PIB\n",
        "    \n",
        "Exemplo:\n",
        "\n",
        "```python\n",
        "[(1960, 72179235), (1961, 74311338) ... (2020, 212559409)] # brasil_populacao\n",
        "[(1960, 15165569912.5199), (1961, 15236854859.469) ... (2016, 1796186586414.45)] # brasil_pib\n",
        "```\n",
        "\n",
        "E então responda:\n",
        "\n",
        "    a) Qual a população brasileira em 1960?\n",
        "    b) Qual o PIB do Brasil em 2000?"
      ]
    },
    {
      "cell_type": "code",
      "source": [
        "bra_pop_line = [populacao for populacao in populacao_linhas if populacao[0] == 'BRA'][0]\n",
        "bra_pop_ano = [(ano,pop) for ano,pop in zip(populacao_cabecalho,bra_pop_line)][1:]\n",
        "\n",
        "bra_pib_line = [line for line in pib_linhas if line[0]=='BRA'][0]\n",
        "bra_pib_ano = [(item1,item2) for item1,item2 in zip(pib_cabecalho, bra_pib_line)][1:]\n",
        "\n",
        "print('bra_pop_ano', bra_pop_ano, sep='\\n', end='\\n\\n')\n",
        "print('bra_pib_ano', bra_pib_ano, sep='\\n', end='\\n\\n')\n",
        "\n",
        "\n",
        "a = [populacao for ano,populacao in bra_pop_ano if ano =='1960'][0]\n",
        "b = [pib for ano,pib in bra_pib_ano if ano =='2000'][0]\n",
        "\n",
        "print(f\"\"\"\n",
        "\\033[1mRespostas\\033[m\n",
        "a) {a}\n",
        "b) {b}\n",
        "\"\"\")"
      ],
      "metadata": {
        "id": "uyI1XY30wFry",
        "colab": {
          "base_uri": "https://localhost:8080/"
        },
        "outputId": "22b5b6ea-8d7b-44e1-a3ed-7114c914735a"
      },
      "id": "uyI1XY30wFry",
      "execution_count": 29,
      "outputs": [
        {
          "output_type": "stream",
          "name": "stdout",
          "text": [
            "bra_pop_ano\n",
            "[('1960', 72179235), ('1961', 74311338), ('1962', 76514329), ('1963', 78772647), ('1964', 81064572), ('1965', 83373533), ('1966', 85696502), ('1967', 88035815), ('1968', 90387079), ('1969', 92746607), ('1970', 95113265), ('1971', 97482928), ('1972', 99859388), ('1973', 102259497), ('1974', 104706193), ('1975', 107216209), ('1976', 109790943), ('1977', 112425392), ('1978', 115121158), ('1979', 117878412), ('1980', 120694012), ('1981', 123570327), ('1982', 126498322), ('1983', 129448815), ('1984', 132383569), ('1985', 135274083), ('1986', 138108915), ('1987', 140891606), ('1988', 143627505), ('1989', 146328305), ('1990', 149003225), ('1991', 151648007), ('1992', 154259382), ('1993', 156849086), ('1994', 159432717), ('1995', 162019889), ('1996', 164614682), ('1997', 167209046), ('1998', 169785253), ('1999', 172318674), ('2000', 174790339), ('2001', 177196051), ('2002', 179537523), ('2003', 181809244), ('2004', 184006479), ('2005', 186127108), ('2006', 188167353), ('2007', 190130445), ('2008', 192030362), ('2009', 193886505), ('2010', 195713637), ('2011', 197514541), ('2012', 199287292), ('2013', 201035904), ('2014', 202763744), ('2015', 204471759), ('2016', 206163056), ('2017', 207833825), ('2018', 209469320), ('2019', 211049519), ('2020', 212559409)]\n",
            "\n",
            "bra_pib_ano\n",
            "[('1960', 15165569912.5199), ('1961', 15236854859.469), ('1962', 19926293839.0163), ('1963', 23021477292.2093), ('1964', 21211892259.9904), ('1965', 21790035117.19), ('1966', 27062716577.9111), ('1967', 30591834053.9653), ('1968', 33875881876.3672), ('1969', 37458898243.8609), ('1970', 42327600098.2412), ('1971', 49204456700.4516), ('1972', 58539008786.3684), ('1973', 79279057730.829), ('1974', 105136007528.76), ('1975', 123709376567.89), ('1976', 152678020452.829), ('1977', 176171284311.761), ('1978', 200800891870.164), ('1979', 224969488835.181), ('1980', 235024598983.261), ('1981', 263561088977.129), ('1982', 281682304161.041), ('1983', 203304515490.795), ('1984', 209023912696.839), ('1985', 222942790435.299), ('1986', 268137224729.722), ('1987', 294084112392.66), ('1988', 330397381998.489), ('1989', 425595310000.0), ('1990', 461951782000.0), ('1991', 602860000000.0), ('1992', 400599250000.0), ('1993', 437798577639.752), ('1994', 558111997497.263), ('1995', 785643456467.255), ('1996', 850425828275.793), ('1997', 883199443413.729), ('1998', 863723395088.324), ('1999', 599388879704.634), ('2000', 655421153320.579), ('2001', 559372502338.237), ('2002', 507962741819.919), ('2003', 558320116997.075), ('2004', 669316239316.239), ('2005', 891629970423.924), ('2006', 1107640325472.35), ('2007', 1397084381901.29), ('2008', 1695824517395.57), ('2009', 1667019605881.76), ('2010', 2208871646202.82), ('2011', 2616201578192.25), ('2012', 2465188674415.03), ('2013', 2472806919901.67), ('2014', 2455993200170.0), ('2015', 1803652649613.75), ('2016', 1796186586414.45)]\n",
            "\n",
            "\n",
            "\u001b[1mRespostas\u001b[m\n",
            "a) 72179235\n",
            "b) 655421153320.579\n",
            "\n"
          ]
        }
      ]
    },
    {
      "cell_type": "markdown",
      "id": "070e5a44-1ea4-4c1b-b52b-fe1170c0f597",
      "metadata": {
        "id": "070e5a44-1ea4-4c1b-b52b-fe1170c0f597"
      },
      "source": [
        "## Questão 5\n",
        "\n",
        "Com base nas listas feitas no exercício anterior calcule o PIB per capita (PIB dividido pela população) nos anos de 1960 a 2016 (máximo que temos de dados de PIB).\n",
        "Construa a mesma estrutura de lista com tuplas anterior agora com o ano e o PIB per capita em cada tupla:\n",
        "\n",
        "Exemplo:\n",
        "\n",
        "```python\n",
        "[(1960, x), (1961, x) ... (2016, x)] # onde x é o pib per capita para aquele ano\n",
        "```\n",
        "\n",
        "Então responda:\n",
        "\n",
        "    a) Qual o PIB per capita em 2016? Arredonde o resultado para o inteiro mais próximo.\n",
        "    b) Qual ano tivemos o melhor PIB per capita?\n",
        "    "
      ]
    },
    {
      "cell_type": "code",
      "execution_count": 34,
      "id": "571151f1-c41a-4d18-a3f5-057e22f7c930",
      "metadata": {
        "id": "571151f1-c41a-4d18-a3f5-057e22f7c930",
        "colab": {
          "base_uri": "https://localhost:8080/"
        },
        "outputId": "c42973aa-6320-4e92-a0f9-845ab0169b6d"
      },
      "outputs": [
        {
          "output_type": "stream",
          "name": "stdout",
          "text": [
            "[('1960', 210), ('1961', 205), ('1962', 260), ('1963', 292), ('1964', 262), ('1965', 261), ('1966', 316), ('1967', 347), ('1968', 375), ('1969', 404), ('1970', 445), ('1971', 505), ('1972', 586), ('1973', 775), ('1974', 1004), ('1975', 1154), ('1976', 1391), ('1977', 1567), ('1978', 1744), ('1979', 1908), ('1980', 1947), ('1981', 2133), ('1982', 2227), ('1983', 1571), ('1984', 1579), ('1985', 1648), ('1986', 1941), ('1987', 2087), ('1988', 2300), ('1989', 2908), ('1990', 3100), ('1991', 3975), ('1992', 2597), ('1993', 2791), ('1994', 3501), ('1995', 4849), ('1996', 5166), ('1997', 5282), ('1998', 5087), ('1999', 3478), ('2000', 3750), ('2001', 3157), ('2002', 2829), ('2003', 3071), ('2004', 3637), ('2005', 4790), ('2006', 5886), ('2007', 7348), ('2008', 8831), ('2009', 8598), ('2010', 11286), ('2011', 13246), ('2012', 12370), ('2013', 12300), ('2014', 12113), ('2015', 8821), ('2016', 8712)]\n",
            "\n",
            "\u001b[1mRespostas\u001b[m\n",
            "a) 8712\n",
            "b) 2011\n",
            "\n"
          ]
        }
      ],
      "source": [
        "bra_pib_per_capita = [(pib[0],round(pib[1]/populacao[1])) for pib,populacao in zip(bra_pib_ano, bra_pop_ano)]\n",
        "print(bra_pib_per_capita)\n",
        "\n",
        "\n",
        "a = [pib for year,pib in bra_pib_per_capita if year=='2016'][0]\n",
        "b = sorted(bra_pib_per_capita, key=lambda x: x[1])[-1][0]\n",
        "\n",
        "print(f\"\"\"\n",
        "\\033[1mRespostas\\033[m\n",
        "a) {a}\n",
        "b) {b}\n",
        "\"\"\")"
      ]
    },
    {
      "cell_type": "markdown",
      "id": "7c212287-2a22-448d-a3a2-de5c4429376d",
      "metadata": {
        "id": "7c212287-2a22-448d-a3a2-de5c4429376d"
      },
      "source": [
        "## Questão 6\n",
        "\n",
        "Utilize um loop **while** para iterar sobre a lista `bra_pib` criada no exercício 4 e verifique se o PIB do ano em questão foi menor que o PIB do ano anterior.\n",
        "\n",
        "Na primeira iteração que houver um ano que teve PIB inferior ao ano passado, retorne:\n",
        "\n",
        "    a) O ano em que houve essa diminuição\n",
        "    b) Quanto diminuiu, em percentual em relação ao ano anterior (arredonde para que não haja nenhuma casa decimal)"
      ]
    },
    {
      "cell_type": "code",
      "execution_count": 38,
      "id": "dd069c22-0d52-4e9d-a715-ae7427761142",
      "metadata": {
        "id": "dd069c22-0d52-4e9d-a715-ae7427761142",
        "colab": {
          "base_uri": "https://localhost:8080/"
        },
        "outputId": "15bf96d1-5063-4351-acbf-82ee8d112320"
      },
      "outputs": [
        {
          "output_type": "stream",
          "name": "stdout",
          "text": [
            "\n",
            "\u001b[1mRespostas\u001b[m\n",
            "a) 1964\n",
            "b) 8\n",
            "\n"
          ]
        }
      ],
      "source": [
        "i,a,b = 1, None, None\n",
        "\n",
        "while i < len(bra_pib_ano):\n",
        "    ano_atual = bra_pib_ano[i][0]\n",
        "    pib_atual = bra_pib_ano[i][1]\n",
        "    pib_anterior = bra_pib_ano[i-1][1]\n",
        "    \n",
        "    if pib_atual >= pib_anterior:\n",
        "        i+=1\n",
        "    else:\n",
        "        a = ano_atual\n",
        "        b = round((1 - pib_atual/pib_anterior) * 100)\n",
        "        break\n",
        "\n",
        "# Resposta\n",
        "print(f\"\"\"\n",
        "\\033[1mRespostas\\033[m\n",
        "a) {a}\n",
        "b) {b}\n",
        "\"\"\")"
      ]
    },
    {
      "cell_type": "markdown",
      "id": "d0c64bdc-3186-40e0-aabb-7f82eb7425cc",
      "metadata": {
        "tags": [],
        "id": "d0c64bdc-3186-40e0-aabb-7f82eb7425cc"
      },
      "source": [
        "## Questão 7\n",
        "\n",
        "Faça uma função que recebe como input uma lista de tuplas (como do exercício 4) e retorna outra lista de tupla com o mínimo, máximo e a média dos valores. Essas estatísticas devem ser aplicadas apenas considerando os segundos elementos das tuplas da lista de entrada. No caso da variável `bra_populacao`, por exemplo, resultaria em estatísticas das populações.\n",
        "\n",
        "Exemplo:\n",
        "\n",
        "```python\n",
        "[('min', x), ('max', x), ('mean', x)] # onde x é a estatística correspondente\n",
        "```\n",
        "\n",
        "Aplique sua função na variável `bra_populacao` e responda:\n",
        "\n",
        "    a) Qual o valor mínimo de população no Brasil nesses dados?\n",
        "    b) Qual a média da população do Brasil? (arredonde para não ter decimais)"
      ]
    },
    {
      "cell_type": "code",
      "execution_count": 41,
      "id": "dec8e400-a493-49c0-8b08-7515546f48ec",
      "metadata": {
        "id": "dec8e400-a493-49c0-8b08-7515546f48ec",
        "colab": {
          "base_uri": "https://localhost:8080/"
        },
        "outputId": "62595949-e9d8-47f0-f270-08cd122e72c0"
      },
      "outputs": [
        {
          "output_type": "stream",
          "name": "stdout",
          "text": [
            "[('min', 72179235), ('max', 212559409), ('mean', 146302359)]\n",
            "\n",
            "\u001b[1mRespostas\u001b[m\n",
            "a) 72179235\n",
            "b) 146302359\n",
            "\n"
          ]
        }
      ],
      "source": [
        "def taxas (a):\n",
        "  valores = [valor for ano,valor in a]\n",
        "  mean = round(sum(valores)/len(valores))\n",
        "  maximo = max(valores)\n",
        "  minimo = min(valores)\n",
        "  return [('min',minimo),('max',maximo),('mean',mean)]\n",
        "\n",
        "\n",
        "resp = taxas(bra_pop_ano)\n",
        "print(resp)\n",
        "\n",
        "print(f\"\"\"\n",
        "\\033[1mRespostas\\033[m\n",
        "a) {resp[0][1]}\n",
        "b) {resp[2][1]}\n",
        "\"\"\")"
      ]
    },
    {
      "cell_type": "markdown",
      "id": "e799e297-c24f-4fef-9f2e-6f812ad8e07d",
      "metadata": {
        "id": "e799e297-c24f-4fef-9f2e-6f812ad8e07d"
      },
      "source": [
        "## Questão 8\n",
        "\n",
        "Crie uma função que calcule o valor máximo de população para um país-alvo. Sua função deve receber dois parâmetros de entrada: o código do país e os dados das populações em linhas (`populacao_linhas`) e resultar como output o valor máximo populacional para esses país. Lembre que o primeiro item da lista é o código do país e os demais os dados para os anos de 1960 a 2020.\n",
        "\n",
        "Aplique sua função uma vez para a China (código \"CHN\") e para os Estados Unidos (código \"USA\") e responda:\n",
        "\n",
        "    a) Qual foi a maior população que a China teve entre 2016 e 2020?\n",
        "    a) Qual foi a maior população que os Estados Unidos teve entre 2016 e 2020?"
      ]
    },
    {
      "cell_type": "code",
      "execution_count": 43,
      "id": "d8a4c634-c083-47b5-be6a-a1a1a28da5f4",
      "metadata": {
        "id": "d8a4c634-c083-47b5-be6a-a1a1a28da5f4",
        "colab": {
          "base_uri": "https://localhost:8080/"
        },
        "outputId": "09b87b77-55b5-4753-f449-454a8e007329"
      },
      "outputs": [
        {
          "output_type": "stream",
          "name": "stdout",
          "text": [
            "\n",
            "\u001b[1mRespostas\u001b[m\n",
            "a) 1402112000\n",
            "b) 329484123\n",
            "\n"
          ]
        }
      ],
      "source": [
        "def calculaMaximo (cadigo_pais,dados_populacoes):\n",
        "  dados_populacao_alvo = [dados for dados in dados_populacoes if dados[0] == cadigo_pais][0][1:]\n",
        "  return max(dados_populacao_alvo)\n",
        "\n",
        "a = calculaMaximo('CHN', populacao_linhas)\n",
        "b = calculaMaximo('USA', populacao_linhas)\n",
        "\n",
        "# Resposta\n",
        "print(f\"\"\"\n",
        "\\033[1mRespostas\\033[m\n",
        "a) {a}\n",
        "b) {b}\n",
        "\"\"\")"
      ]
    },
    {
      "cell_type": "markdown",
      "id": "864d4225-87ed-4aed-952b-343ada474ce7",
      "metadata": {
        "id": "864d4225-87ed-4aed-952b-343ada474ce7"
      },
      "source": [
        "## Questão 9\n",
        "\n",
        "Crie uma função que retorne uma lista com os valores de PIB em dado ano para uma lista de países. Sua lista deve receber como input a lista de países, o ano-alvo, os dados em lista (para essa tarefa utilize a lista `pib_colunas`) e o cabeçalho para a identificação dos anos. \n",
        "\n",
        "Exemplo:\n",
        "\n",
        "```python\n",
        "get_dados_anuais_por_listapaises(country_codes, target_year, data, data_cabecalho)\n",
        "get_dados_anuais_por_listapaises(['BRA','USA'], 2015, pib_colunas, populacao_cabecalho)\n",
        "```\n",
        "\n",
        "Aplique sua função nos países 'USA','ESP' e 'BRA' (Estados Unidos, Espanha e Brasil) no ano de 2016 com os dados de PIB e responda:\n",
        "\n",
        "    a) Qual o PIB da Espanha?\n",
        "    b) Qual o PIB do Brasil?\n",
        "   \n",
        "Arredonde seu resultado para não haver decimais."
      ]
    },
    {
      "cell_type": "code",
      "execution_count": 48,
      "id": "de4f0708-eb6a-4d34-aa1a-0404fb174194",
      "metadata": {
        "id": "de4f0708-eb6a-4d34-aa1a-0404fb174194",
        "colab": {
          "base_uri": "https://localhost:8080/"
        },
        "outputId": "fe08a92a-3a88-431a-ae8b-ce387fe55165"
      },
      "outputs": [
        {
          "output_type": "stream",
          "name": "stdout",
          "text": [
            "\n",
            "\u001b[1mRespostas\u001b[m\n",
            "a) 1237255019654\n",
            "b) 1796186586414\n",
            "\n"
          ]
        }
      ],
      "source": [
        "def get_annual_data_by_countrylist(country_codes, target_year, data, data_header):\n",
        "    countries_index = [data[0].index(country) for country in country_codes]\n",
        "    year_index = data_header.index(str(target_year))\n",
        "    pop_target_year = data[year_index]\n",
        "    return [pop_target_year[idx] for idx in countries_index]\n",
        "\n",
        "_,a,b = get_annual_data_by_countrylist(['USA','ESP','BRA'], 2016, pib_colunas, populacao_cabecalho)\n",
        "\n",
        "# Resposta\n",
        "print(f\"\"\"\n",
        "\\033[1mRespostas\\033[m\n",
        "a) {round(a)}\n",
        "b) {round(b)}\n",
        "\"\"\")"
      ]
    },
    {
      "cell_type": "markdown",
      "id": "e204f152-700e-43e5-a4fd-a4bc262f7208",
      "metadata": {
        "id": "e204f152-700e-43e5-a4fd-a4bc262f7208"
      },
      "source": [
        "## Questão 10"
      ]
    },
    {
      "cell_type": "markdown",
      "id": "b2ba97e8-c5be-4d5d-aa5e-851582ef0dd8",
      "metadata": {
        "id": "b2ba97e8-c5be-4d5d-aa5e-851582ef0dd8"
      },
      "source": [
        "Crie um dicionário que capture a população e o PIB máximo para uma lista de países. Sua lista de países deve conter os Estados Unidos, Brasil e República Centro-Africana (USA, BRA e CAF, respectivamente). Utilize as variáveis `populacao_linhas` e `pib_linhas` para a construção desse dicionário que deve apresentar a seguinte estrutura:\n",
        "\n",
        "```python\n",
        "{\n",
        "    'pais1': {'max_populacao': 123, 'max_pib': 123},\n",
        "    'pais2': {'max_populacao': 123, 'max_pib': 123}\n",
        "}\n",
        "```\n",
        "\n",
        "Então responda:\n",
        "\n",
        "    a) Qual o PIB máximo nos Estados Unidos (USA)?\n",
        "    b) Qual o PIB máximo na República Centro-Africana (CAF)?"
      ]
    },
    {
      "cell_type": "code",
      "execution_count": 49,
      "id": "3984b2f7-4789-4021-90a6-3f5202489d10",
      "metadata": {
        "id": "3984b2f7-4789-4021-90a6-3f5202489d10",
        "colab": {
          "base_uri": "https://localhost:8080/"
        },
        "outputId": "5be90533-67a8-4100-bb64-6d07b0d3a006"
      },
      "outputs": [
        {
          "output_type": "stream",
          "name": "stdout",
          "text": [
            "{'USA': {'max_populacao': 329484123, 'max_pib': 18624}, 'BRA': {'max_populacao': 212559409, 'max_pib': 2616}, 'CAF': {'max_populacao': 4829764, 'max_pib': 2}}\n",
            "\n",
            "\u001b[1mRespostas\u001b[m\n",
            "a) 18624\n",
            "b) 2\n",
            "\n"
          ]
        }
      ],
      "source": [
        "target_countries = ['USA','BRA','CAF'] # Central African Republic (Sub-Saharan Africa)\n",
        "\n",
        "dict_countries = {}\n",
        "\n",
        "for target_country in target_countries:\n",
        "\n",
        "    max_populacao = max([line for line in populacao_linhas if line[0]==target_country][0][1:])\n",
        "    max_pib = max([line for line in pib_linhas if line[0]==target_country][0][1:])\n",
        "    dict_countries[target_country] = dict(max_populacao=max_populacao, max_pib=round(max_pib/1E9))\n",
        "\n",
        "print(dict_countries)\n",
        "a = dict_countries['USA']['max_pib']\n",
        "b = dict_countries['CAF']['max_pib']\n",
        "\n",
        "# Resposta\n",
        "print(f\"\"\"\n",
        "\\033[1mRespostas\\033[m\n",
        "a) {a}\n",
        "b) {b}\n",
        "\"\"\")"
      ]
    },
    {
      "cell_type": "markdown",
      "id": "75f6f6be-7023-4ea3-9087-a6346f57fdf1",
      "metadata": {
        "id": "75f6f6be-7023-4ea3-9087-a6346f57fdf1"
      },
      "source": [
        "## Questão 11"
      ]
    },
    {
      "cell_type": "markdown",
      "id": "e570a1eb-bd56-4f05-b7a2-0efa5cd121bd",
      "metadata": {
        "id": "e570a1eb-bd56-4f05-b7a2-0efa5cd121bd"
      },
      "source": [
        "Crie uma função que receba uma lista de valores e adicione em um dicionário quantas vezes cada elemento aparece. Condições importantes:\n",
        "* Se houver elemento vazio, retirá-lo do dicionário;\n",
        "* Adicione um parâmetro na função que manterá apenas os N elementos que mais aparecem\n",
        "\n",
        "Exemplo:\n",
        "\n",
        "```python\n",
        "counter(lista, n_largest) # onde 'lista' é a lista e n_largest a quantidade de elementos que mais aparecem\n",
        "```\n",
        "\n",
        "- a) Aplique sua função na lista de grupo de renda (`metadadados_dicio['IncomeGroup']`), selecionando o primeiro elemento que mais aparece e responda quantas vezes ele apareceu.\n",
        "- b) Aplique sua função na lista região (`metadados_dicio['Region']`), selecionando os dois primeiros elementos que mais aparecem e responda quantas vezes **o segundo** elemento apareceu.\n",
        "    \n",
        "Exemplo de aplicação da função para obter resultado esperado:\n",
        "\n",
        "```python\n",
        "counter(metadados_dicio['IncomeGroup'], n_largest=1) # a\n",
        "counter(metadados_dicio['Region'], n_largest=2) # b\n",
        "```"
      ]
    },
    {
      "cell_type": "code",
      "execution_count": 51,
      "id": "228d8c84-000a-4fe5-aa0a-268e287f2233",
      "metadata": {
        "id": "228d8c84-000a-4fe5-aa0a-268e287f2233",
        "colab": {
          "base_uri": "https://localhost:8080/"
        },
        "outputId": "c242e5bf-d62d-4da8-81d4-f6268c67fdd9"
      },
      "outputs": [
        {
          "output_type": "stream",
          "name": "stdout",
          "text": [
            "{'High income': 79}\n",
            "{'Europe & Central Asia': 58, 'Sub-Saharan Africa': 48}\n",
            "\n",
            "\u001b[1mRespostas\u001b[m\n",
            "a) 79\n",
            "b) 48\n",
            "\n"
          ]
        }
      ],
      "source": [
        "def counter(lst, n_largest):\n",
        "    # Contar elementos com dicionário\n",
        "    dict_count = {}\n",
        "    for element in lst:\n",
        "        dict_count[element] = dict_count.get(element,0) + 1\n",
        "    # Remover chave vazia do dicionário\n",
        "    if '' in dict_count:\n",
        "        del dict_count['']\n",
        "    # Ordenear dicionário pelos valores (retorna tupla) e filtrar os n maiores valores\n",
        "    tuple_count_filtered = sorted(dict_count.items(), key=lambda x: x[1], reverse=True)[:n_largest]\n",
        "    # Transformar tupla filtrada de volta em um dicionário (a ordem é mantida se Python >= 3.6)\n",
        "    dict_count_filtered = {k:v for k,v in tuple_count_filtered}\n",
        "    return dict_count_filtered\n",
        "\n",
        "# Respostas\n",
        "a = counter(metadados_dicio['IncomeGroup'], n_largest=1)\n",
        "print(a)\n",
        "\n",
        "b = counter(metadados_dicio['Region'], n_largest=2)\n",
        "print(b)\n",
        "\n",
        "print(f\"\"\"\n",
        "\\033[1mRespostas\\033[m\n",
        "a) {list(a.values())[0]}\n",
        "b) {list(b.values())[1]}\n",
        "\"\"\")"
      ]
    },
    {
      "cell_type": "markdown",
      "id": "b50d4f29-fe05-439f-aa5e-d7c2bfc87207",
      "metadata": {
        "id": "b50d4f29-fe05-439f-aa5e-d7c2bfc87207"
      },
      "source": [
        "## Questão 12"
      ]
    },
    {
      "cell_type": "markdown",
      "id": "c75232ba-b09f-49b2-b8a3-99cd8f68cbd4",
      "metadata": {
        "id": "c75232ba-b09f-49b2-b8a3-99cd8f68cbd4"
      },
      "source": [
        "Faça uma função que retorne uma lista com tuplas, cada tupla com dois elementos: a região geográfica e o valor de uma função-alvo (como a soma, por exemplo) de todos os valores de PIB em todos os anos dos países correspondentes à região. \n",
        "\n",
        "Por exemplo, as suas regiões-alvos devem ser:\n",
        "\n",
        "```\n",
        "target_regions = ['East Asia & Pacific', 'Europe & Central Asia', 'Latin America & Caribbean', 'Middle East & North Africa', 'North America', 'South Asia', 'Sub-Saharan Africa']\n",
        "```\n",
        "\n",
        "E você deve utilizar a variável `metadados_dicio` para verificar a correspondência de região e país, e `pib_linhas` para capturar os valores de PIB.  \n",
        "A sua função receberá as variáveis `metadados_dicio`, `pib_linhas` e `target_regions` como variáveis, além de um parâmetro para definir uma função custom que irá agregar os valores, quer seja soma, mínimo, máximo ou média. \n",
        "\n",
        "**Importante:** Há valores nulos que estão como zeros. Remova-os antes de aplicar sua função que irá agregar/resumir estes valores em um único valor (exemplo, valor máximo).\n",
        "\n",
        "EXEMPLO:\n",
        "\n",
        "```python\n",
        "custom_function_per_region(metadados_dicio=metadados_dicio, pib_linhas=pib_linhas, target_regions=target_regions, target_function=max)\n",
        "```\n",
        "\n",
        "SAÍDA ESPERADA (neste caso de valor máximo, sem arredondamento):\n",
        "```\n",
        "[('Sub-Saharan Africa', 568498937588.035),\n",
        " ('Middle East & North Africa', 756350347333.334),\n",
        " ('South Asia', 2263792499341.01),\n",
        " ('Latin America & Caribbean', 2616201578192.25),\n",
        " ('Europe & Central Asia', 3890606893346.69),\n",
        " ('East Asia & Pacific', 11199145157649.2),\n",
        " ('North America', 18624475000000.0)]\n",
        "```\n",
        "\n",
        "Aplique sua função passando a função `max` como função-alvo. Divida os valores por 1 bilhão, faça o arredondamento para que não haja decimais e responda:\n",
        "\n",
        "    a) Qual o valor máximo de PIB, em bilhões, para países da América do Norte ('North America')?\n",
        "    b) Qual o valor máximo de PIB, em bilhões, para países da África-subsaariana ('Sub-Saharan Africa')?"
      ]
    },
    {
      "cell_type": "code",
      "execution_count": 113,
      "id": "bfd8dea7-aef0-4752-9bfe-a1b0fedd5c7b",
      "metadata": {
        "id": "bfd8dea7-aef0-4752-9bfe-a1b0fedd5c7b",
        "colab": {
          "base_uri": "https://localhost:8080/"
        },
        "outputId": "33656814-9946-44d7-fa68-13b8cf97a44b"
      },
      "outputs": [
        {
          "output_type": "stream",
          "name": "stdout",
          "text": [
            "[('Sub-Saharan Africa', 568498937588.035), ('Middle East & North Africa', 756350347333.334), ('South Asia', 2263792499341.01), ('Latin America & Caribbean', 2616201578192.25), ('Europe & Central Asia', 3890606893346.69), ('East Asia & Pacific', 11199145157649.2), ('North America', 18624475000000.0)]\n",
            "{'Sub-Saharan Africa': 568, 'Middle East & North Africa': 756, 'South Asia': 2264, 'Latin America & Caribbean': 2616, 'Europe & Central Asia': 3891, 'East Asia & Pacific': 11199, 'North America': 18624}\n",
            "\n",
            "\u001b[1mRespostas\u001b[m\n",
            "a) 18624\n",
            "b) 568\n",
            "\n"
          ]
        }
      ],
      "source": [
        "target_regions = ['East Asia & Pacific', 'Europe & Central Asia', 'Latin America & Caribbean', 'Middle East & North Africa', 'North America', 'South Asia', 'Sub-Saharan Africa']\n",
        "\n",
        "def custom_function_per_region(metadados_dicio, pib_linhas, target_regions, target_function):\n",
        "    output_dict = {}\n",
        "    #target_region = 'East Asia & Pacific'\n",
        "    for target_region in target_regions:\n",
        "      target_countries = [metadados_dicio['CountryCode'][i] for i,region in enumerate(metadados_dicio['Region']) if region==target_region]\n",
        "      pib_values = sum([line[1:] for line in pib_linhas if line[0] in target_countries], [])\n",
        "      output_dict[target_region] = target_function(filter(lambda x: x>0, pib_values))\n",
        "    return sorted(output_dict.items(), key=lambda x: x[1])\n",
        "\n",
        "result = custom_function_per_region(metadados_dicio, pib_linhas, target_regions, max)\n",
        "result_dict = {k:round(v/1E9) for k,v in result}\n",
        "\n",
        "print(result)\n",
        "print(result_dict)\n",
        "\n",
        "a = result_dict['North America']\n",
        "b = result_dict['Sub-Saharan Africa']\n",
        "\n",
        "print(f\"\"\"\n",
        "\\033[1mRespostas\\033[m\n",
        "a) {a}\n",
        "b) {b}\n",
        "\"\"\")"
      ]
    }
  ],
  "metadata": {
    "colab": {
      "name": "Hackathon.ipynb",
      "provenance": [],
      "collapsed_sections": [
        "73939893-7fd1-4657-92b7-e51db1d2f6e7",
        "7c212287-2a22-448d-a3a2-de5c4429376d"
      ],
      "include_colab_link": true
    },
    "kernelspec": {
      "display_name": "Python 3 (ipykernel)",
      "language": "python",
      "name": "python3"
    },
    "language_info": {
      "codemirror_mode": {
        "name": "ipython",
        "version": 3
      },
      "file_extension": ".py",
      "mimetype": "text/x-python",
      "name": "python",
      "nbconvert_exporter": "python",
      "pygments_lexer": "ipython3",
      "version": "3.9.7"
    }
  },
  "nbformat": 4,
  "nbformat_minor": 5
}